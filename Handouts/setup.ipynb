{
  "cells": [
    {
      "cell_type": "raw",
      "metadata": {},
      "source": [
        "---\n",
        "title: \"Set Up\"\n",
        "author: \"Alan Arnholt\"\n",
        "date: last-modified\n",
        "date-format: \"[Last modified on] MMMM DD, YYYY HH:mm:ss zzz\"\n",
        "format: \n",
        "  html: default\n",
        "  pdf: default\n",
        "editor: visual\n",
        "---"
      ],
      "id": "1db73b2c"
    },
    {
      "cell_type": "markdown",
      "metadata": {},
      "source": [
        "* Sign-up for a free account on [GitHub](https://github.com). When you register for a free individual GitHub account, request a [student discount](https://education.github.com/pack) to obtain a few private repositories as well as unlimited public repositories. Please use something similar to **FirstNameLastName** as your username when you register with GitHub. For example, my username on GitHub is **alanarnholt** (all lowercase without spaces between the first and last name). If you have a popular name such as John Smith, you may need to provide some other distinguishing characteristic in your username.  You will need to use your Appalachian State email when you register with GitHub both to be verified as a student and to have access to push your completed assignments to the class repository at <https://github.com/STT3850-Fall23>.\n",
        "\n",
        "* **Introduce yourself to Git using the RStudio Terminal**.  First, sign in to the RStudio/POSIT workbench at <https://mathr.appstate.edu> using your ASU credentials (the same username and password you use to login to your ASU email and other ASU accounts). Click on the **Terminal** tab located in the top of the bottom left pane of the workbench.\n",
        "\n",
        "\n",
        "\n",
        "```{shell}\n",
        "git config --global user.name 'Jane Doe'\n",
        "git config --global user.email 'jane@example.com'\n",
        "git config --global --list\n",
        "\n",
        "```"
      ],
      "id": "a24dd70d"
    }
  ],
  "metadata": {
    "kernelspec": {
      "display_name": "Python 3",
      "language": "python",
      "name": "python3"
    }
  },
  "nbformat": 4,
  "nbformat_minor": 5
}